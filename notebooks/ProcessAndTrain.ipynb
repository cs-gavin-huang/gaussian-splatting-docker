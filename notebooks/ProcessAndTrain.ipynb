{
 "cells": [
  {
   "cell_type": "code",
   "execution_count": null,
   "id": "3984beaa",
   "metadata": {},
   "outputs": [],
   "source": [
    "CONTENT =\"../../content/\"\n",
    "media = CONTENT + \"20210319_215205.mp4\"\n",
    "outputDir = CONTENT + \"20210319_215205/\"\n",
    "database = outputDir + \"database.db\"\n",
    "sparse = outputDir + \"sparse/\"\n",
    "images = outputDir + \"images/\"\n",
    "\n",
    "!mkdir -p {images}\n",
    "!mkdir -p {sparse}"
   ]
  },
  {
   "cell_type": "code",
   "execution_count": null,
   "id": "29e7dcf4",
   "metadata": {
    "scrolled": true
   },
   "outputs": [],
   "source": [
    "!ffmpeg -i {media} -vf fps=1 {images + \"%04d.png\"}"
   ]
  },
  {
   "cell_type": "code",
   "execution_count": null,
   "id": "165dfe90",
   "metadata": {},
   "outputs": [],
   "source": [
    "!colmap feature_extractor \\\n",
    "--SiftExtraction.use_gpu 0 \\\n",
    "--SiftExtraction.upright 1 \\\n",
    "--ImageReader.camera_model PINHOLE \\\n",
    "--ImageReader.single_camera 1 \\\n",
    "--database_path {database} \\\n",
    "--image_path {images}"
   ]
  },
  {
   "cell_type": "code",
   "execution_count": null,
   "id": "30c8eca6",
   "metadata": {
    "scrolled": true
   },
   "outputs": [],
   "source": [
    "!colmap exhaustive_matcher \\\n",
    "--SiftMatching.use_gpu 0 \\\n",
    "--database_path {database}"
   ]
  },
  {
   "cell_type": "code",
   "execution_count": null,
   "id": "e32b9c0d",
   "metadata": {},
   "outputs": [],
   "source": [
    "!mkdir {sparse}\n",
    "!colmap mapper \\\n",
    "  --Mapper.ba_refine_principal_point 1 \\\n",
    "  --Mapper.filter_max_reproj_error 2 \\\n",
    "  --Mapper.tri_complete_max_reproj_error 2 \\\n",
    "  --Mapper.min_num_matches 32 \\\n",
    "  --database_path {database} \\\n",
    "  --image_path {images} \\\n",
    "  --output_path {sparse}"
   ]
  },
  {
   "cell_type": "code",
   "execution_count": null,
   "id": "9216ab3a",
   "metadata": {},
   "outputs": [],
   "source": [
    "!python ../train.py -s {outputDir}\n",
    "!mv output {outputDir}"
   ]
  }
 ],
 "metadata": {
  "kernelspec": {
   "display_name": "Python 3 (ipykernel)",
   "language": "python",
   "name": "python3"
  },
  "language_info": {
   "codemirror_mode": {
    "name": "ipython",
    "version": 3
   },
   "file_extension": ".py",
   "mimetype": "text/x-python",
   "name": "python",
   "nbconvert_exporter": "python",
   "pygments_lexer": "ipython3",
   "version": "3.7.16"
  }
 },
 "nbformat": 4,
 "nbformat_minor": 5
}
